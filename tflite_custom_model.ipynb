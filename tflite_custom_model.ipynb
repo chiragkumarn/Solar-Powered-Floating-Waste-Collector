https://colab.research.google.com/drive/1IF56s4z09VgAAMlKx9jfIP9zEL7IduCq?usp=sharing
